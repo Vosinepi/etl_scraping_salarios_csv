{
 "cells": [
  {
   "cell_type": "code",
   "execution_count": 5,
   "metadata": {},
   "outputs": [],
   "source": [
    "import os\n",
    "import pandas as pd\n",
    "import matplotlib.pyplot as plt\n",
    "import matplotlib.ticker as ticker\n",
    "from bs4 import BeautifulSoup\n",
    "import requests     # 2.18.4\n",
    "import json         # 2.0.9\n",
    "pd.set_option('display.max_columns', None)"
   ]
  },
  {
   "cell_type": "markdown",
   "metadata": {},
   "source": [
    "## Extraccion y generacion de datos y visualizaciones muy sencillas con BeatifulSoup, Pandas y Matplotlib"
   ]
  },
  {
   "cell_type": "markdown",
   "metadata": {},
   "source": [
    "variables para scraping"
   ]
  },
  {
   "cell_type": "code",
   "execution_count": 6,
   "metadata": {},
   "outputs": [],
   "source": [
    "url = \"http://gonzaleschaves.gob.ar/sueldos-del-personal-municipal/sueldos-liquidos-julio-2022/\""
   ]
  },
  {
   "cell_type": "markdown",
   "metadata": {},
   "source": [
    "Utilizamos BeautifulSoup: analisis de web y preparacion de algoritmo de scraping"
   ]
  },
  {
   "cell_type": "code",
   "execution_count": 7,
   "metadata": {},
   "outputs": [],
   "source": [
    "\n",
    "\n",
    "\n",
    "data_scraping = []\n",
    "\n",
    "response = requests.get(url)\n",
    "soup = BeautifulSoup(response.text, \"html.parser\")\n",
    "div = soup.find(\"div\", {\"class\": \"page-content-new\"})\n",
    "figure_all = div.find_all(\"figure\", class_=\"wp-block-table is-style-stripes\")\n",
    "for figure in figure_all:\n",
    "    table = figure.find(\"table\")\n",
    "    body = table.find(\"tbody\")\n",
    "    tr = body.find_all(\"tr\")\n",
    "    for row in tr:\n",
    "        \n",
    "        td = row.find_all(\"td\")\n",
    "        row = [i.text for i in row]\n",
    "        data_scraping.append(row)\n",
    "\n"
   ]
  },
  {
   "cell_type": "markdown",
   "metadata": {},
   "source": [
    "Generamos el DataFrame con los datos de los sueldos"
   ]
  },
  {
   "cell_type": "code",
   "execution_count": 8,
   "metadata": {},
   "outputs": [
    {
     "data": {
      "text/html": [
       "<div>\n",
       "<style scoped>\n",
       "    .dataframe tbody tr th:only-of-type {\n",
       "        vertical-align: middle;\n",
       "    }\n",
       "\n",
       "    .dataframe tbody tr th {\n",
       "        vertical-align: top;\n",
       "    }\n",
       "\n",
       "    .dataframe thead th {\n",
       "        text-align: right;\n",
       "    }\n",
       "</style>\n",
       "<table border=\"1\" class=\"dataframe\">\n",
       "  <thead>\n",
       "    <tr style=\"text-align: right;\">\n",
       "      <th></th>\n",
       "      <th>Legajo</th>\n",
       "      <th>Nombre y Apellido</th>\n",
       "      <th>Sueldo</th>\n",
       "    </tr>\n",
       "  </thead>\n",
       "  <tbody>\n",
       "    <tr>\n",
       "      <th>0</th>\n",
       "      <td>Legajo</td>\n",
       "      <td>Apellido y Nombres</td>\n",
       "      <td>Líquido</td>\n",
       "    </tr>\n",
       "    <tr>\n",
       "      <th>1</th>\n",
       "      <td>77</td>\n",
       "      <td>ETCHEVERS, Néstor Alfredo</td>\n",
       "      <td>250.444,96</td>\n",
       "    </tr>\n",
       "    <tr>\n",
       "      <th>2</th>\n",
       "      <td>84</td>\n",
       "      <td>CHALDE, María Genoveva</td>\n",
       "      <td>150.374,87</td>\n",
       "    </tr>\n",
       "    <tr>\n",
       "      <th>3</th>\n",
       "      <td>93</td>\n",
       "      <td>GANDARA, Carlos Oscar</td>\n",
       "      <td>88.384,47</td>\n",
       "    </tr>\n",
       "    <tr>\n",
       "      <th>4</th>\n",
       "      <td>141</td>\n",
       "      <td>PARADISI, José Osvaldo</td>\n",
       "      <td>65.470,81</td>\n",
       "    </tr>\n",
       "  </tbody>\n",
       "</table>\n",
       "</div>"
      ],
      "text/plain": [
       "   Legajo          Nombre y Apellido      Sueldo\n",
       "0  Legajo         Apellido y Nombres     Líquido\n",
       "1      77  ETCHEVERS, Néstor Alfredo  250.444,96\n",
       "2      84     CHALDE, María Genoveva  150.374,87\n",
       "3      93      GANDARA, Carlos Oscar   88.384,47\n",
       "4     141     PARADISI, José Osvaldo   65.470,81"
      ]
     },
     "execution_count": 8,
     "metadata": {},
     "output_type": "execute_result"
    }
   ],
   "source": [
    "sueldos = pd.DataFrame(data_scraping, columns=['Legajo', 'Nombre y Apellido', 'Sueldo'])\n",
    "sueldos.head()"
   ]
  },
  {
   "cell_type": "markdown",
   "metadata": {},
   "source": [
    "Exportamos el DataFrame a un archivo csv"
   ]
  },
  {
   "cell_type": "code",
   "execution_count": 9,
   "metadata": {},
   "outputs": [],
   "source": [
    "df_export = sueldos.to_csv('sueldos_crudo.csv', index=False)"
   ]
  },
  {
   "cell_type": "markdown",
   "metadata": {},
   "source": [
    "Cargamos Csv exportado en un DataFrame (ya no  es necesario ejecutar el scraping)"
   ]
  },
  {
   "cell_type": "code",
   "execution_count": 10,
   "metadata": {},
   "outputs": [
    {
     "data": {
      "text/html": [
       "<div>\n",
       "<style scoped>\n",
       "    .dataframe tbody tr th:only-of-type {\n",
       "        vertical-align: middle;\n",
       "    }\n",
       "\n",
       "    .dataframe tbody tr th {\n",
       "        vertical-align: top;\n",
       "    }\n",
       "\n",
       "    .dataframe thead th {\n",
       "        text-align: right;\n",
       "    }\n",
       "</style>\n",
       "<table border=\"1\" class=\"dataframe\">\n",
       "  <thead>\n",
       "    <tr style=\"text-align: right;\">\n",
       "      <th></th>\n",
       "      <th>Legajo</th>\n",
       "      <th>Nombre y Apellido</th>\n",
       "      <th>Sueldo</th>\n",
       "    </tr>\n",
       "  </thead>\n",
       "  <tbody>\n",
       "    <tr>\n",
       "      <th>0</th>\n",
       "      <td>Legajo</td>\n",
       "      <td>Apellido y Nombres</td>\n",
       "      <td>Líquido</td>\n",
       "    </tr>\n",
       "    <tr>\n",
       "      <th>1</th>\n",
       "      <td>77</td>\n",
       "      <td>ETCHEVERS, Néstor Alfredo</td>\n",
       "      <td>250.444,96</td>\n",
       "    </tr>\n",
       "    <tr>\n",
       "      <th>2</th>\n",
       "      <td>84</td>\n",
       "      <td>CHALDE, María Genoveva</td>\n",
       "      <td>150.374,87</td>\n",
       "    </tr>\n",
       "    <tr>\n",
       "      <th>3</th>\n",
       "      <td>93</td>\n",
       "      <td>GANDARA, Carlos Oscar</td>\n",
       "      <td>88.384,47</td>\n",
       "    </tr>\n",
       "    <tr>\n",
       "      <th>4</th>\n",
       "      <td>141</td>\n",
       "      <td>PARADISI, José Osvaldo</td>\n",
       "      <td>65.470,81</td>\n",
       "    </tr>\n",
       "  </tbody>\n",
       "</table>\n",
       "</div>"
      ],
      "text/plain": [
       "   Legajo          Nombre y Apellido      Sueldo\n",
       "0  Legajo         Apellido y Nombres     Líquido\n",
       "1      77  ETCHEVERS, Néstor Alfredo  250.444,96\n",
       "2      84     CHALDE, María Genoveva  150.374,87\n",
       "3      93      GANDARA, Carlos Oscar   88.384,47\n",
       "4     141     PARADISI, José Osvaldo   65.470,81"
      ]
     },
     "execution_count": 10,
     "metadata": {},
     "output_type": "execute_result"
    }
   ],
   "source": [
    "sueldos = pd.read_csv('sueldos_crudo.csv')\n",
    "sueldos.head()\n"
   ]
  },
  {
   "cell_type": "markdown",
   "metadata": {},
   "source": [
    "tipos de datos"
   ]
  },
  {
   "cell_type": "code",
   "execution_count": 11,
   "metadata": {},
   "outputs": [
    {
     "name": "stdout",
     "output_type": "stream",
     "text": [
      "<class 'pandas.core.frame.DataFrame'>\n",
      "RangeIndex: 555 entries, 0 to 554\n",
      "Data columns (total 3 columns):\n",
      " #   Column             Non-Null Count  Dtype \n",
      "---  ------             --------------  ----- \n",
      " 0   Legajo             554 non-null    object\n",
      " 1   Nombre y Apellido  554 non-null    object\n",
      " 2   Sueldo             554 non-null    object\n",
      "dtypes: object(3)\n",
      "memory usage: 13.1+ KB\n"
     ]
    }
   ],
   "source": [
    "sueldos.info()"
   ]
  },
  {
   "cell_type": "markdown",
   "metadata": {},
   "source": [
    "### Normalizamos los datos\n",
    "\n"
   ]
  },
  {
   "cell_type": "markdown",
   "metadata": {},
   "source": [
    "Pasamos datos vacios a NaN"
   ]
  },
  {
   "cell_type": "code",
   "execution_count": 12,
   "metadata": {},
   "outputs": [],
   "source": [
    "nan_value = float(\"NaN\")\n",
    "sueldos_normalizado = sueldos.replace(\"\", nan_value, inplace=True)\n"
   ]
  },
  {
   "cell_type": "markdown",
   "metadata": {},
   "source": [
    "Quitamos Rows sucias: con datos vacios o con datos que no son sueldos"
   ]
  },
  {
   "cell_type": "code",
   "execution_count": 13,
   "metadata": {},
   "outputs": [
    {
     "name": "stderr",
     "output_type": "stream",
     "text": [
      "C:\\Users\\ismael\\AppData\\Local\\Temp\\ipykernel_20788\\2921275970.py:3: FutureWarning: The default value of regex will change from True to False in a future version. In addition, single character regular expressions will *not* be treated as literal strings when regex=True.\n",
      "  normalizacion['Sueldo'] = normalizacion['Sueldo'].str.replace('.', '')\n"
     ]
    },
    {
     "data": {
      "text/html": [
       "<div>\n",
       "<style scoped>\n",
       "    .dataframe tbody tr th:only-of-type {\n",
       "        vertical-align: middle;\n",
       "    }\n",
       "\n",
       "    .dataframe tbody tr th {\n",
       "        vertical-align: top;\n",
       "    }\n",
       "\n",
       "    .dataframe thead th {\n",
       "        text-align: right;\n",
       "    }\n",
       "</style>\n",
       "<table border=\"1\" class=\"dataframe\">\n",
       "  <thead>\n",
       "    <tr style=\"text-align: right;\">\n",
       "      <th></th>\n",
       "      <th>Legajo</th>\n",
       "      <th>Nombre y Apellido</th>\n",
       "      <th>Sueldo</th>\n",
       "    </tr>\n",
       "  </thead>\n",
       "  <tbody>\n",
       "    <tr>\n",
       "      <th>1</th>\n",
       "      <td>77</td>\n",
       "      <td>ETCHEVERS, Néstor Alfredo</td>\n",
       "      <td>250444.96</td>\n",
       "    </tr>\n",
       "    <tr>\n",
       "      <th>2</th>\n",
       "      <td>84</td>\n",
       "      <td>CHALDE, María Genoveva</td>\n",
       "      <td>150374.87</td>\n",
       "    </tr>\n",
       "    <tr>\n",
       "      <th>3</th>\n",
       "      <td>93</td>\n",
       "      <td>GANDARA, Carlos Oscar</td>\n",
       "      <td>88384.47</td>\n",
       "    </tr>\n",
       "    <tr>\n",
       "      <th>4</th>\n",
       "      <td>141</td>\n",
       "      <td>PARADISI, José Osvaldo</td>\n",
       "      <td>65470.81</td>\n",
       "    </tr>\n",
       "    <tr>\n",
       "      <th>5</th>\n",
       "      <td>204</td>\n",
       "      <td>CHAZARRETA, Néstor Sergio</td>\n",
       "      <td>86798.12</td>\n",
       "    </tr>\n",
       "  </tbody>\n",
       "</table>\n",
       "</div>"
      ],
      "text/plain": [
       "   Legajo          Nombre y Apellido     Sueldo\n",
       "1      77  ETCHEVERS, Néstor Alfredo  250444.96\n",
       "2      84     CHALDE, María Genoveva  150374.87\n",
       "3      93      GANDARA, Carlos Oscar   88384.47\n",
       "4     141     PARADISI, José Osvaldo   65470.81\n",
       "5     204  CHAZARRETA, Néstor Sergio   86798.12"
      ]
     },
     "execution_count": 13,
     "metadata": {},
     "output_type": "execute_result"
    }
   ],
   "source": [
    "\n",
    "normalizacion = sueldos.loc[sueldos['Legajo'] != 'Legajo'].dropna()\n",
    "normalizacion.astype({'Legajo': 'int64', 'Nombre y Apellido': 'str'})\n",
    "normalizacion['Sueldo'] = normalizacion['Sueldo'].str.replace('.', '')\n",
    "normalizacion['Sueldo'] = normalizacion['Sueldo'].str.replace(',', '.')\n",
    "normalizacion = normalizacion.astype({'Legajo': int, 'Nombre y Apellido': str, 'Sueldo': float})\n",
    "normalizacion.head()"
   ]
  },
  {
   "cell_type": "markdown",
   "metadata": {},
   "source": [
    "Exportamos el DataFrame normalizado a un archivo csv"
   ]
  },
  {
   "cell_type": "code",
   "execution_count": 14,
   "metadata": {},
   "outputs": [],
   "source": [
    "df_normalizado_export = normalizacion.to_csv('sueldos_normalizados.csv', index=False)"
   ]
  },
  {
   "cell_type": "markdown",
   "metadata": {},
   "source": [
    "### Generamos las variables para el analisis"
   ]
  },
  {
   "cell_type": "markdown",
   "metadata": {},
   "source": [
    "Traemos el DataFrame normalizado"
   ]
  },
  {
   "cell_type": "code",
   "execution_count": 15,
   "metadata": {},
   "outputs": [
    {
     "name": "stdout",
     "output_type": "stream",
     "text": [
      "<class 'pandas.core.frame.DataFrame'>\n",
      "RangeIndex: 553 entries, 0 to 552\n",
      "Data columns (total 3 columns):\n",
      " #   Column             Non-Null Count  Dtype  \n",
      "---  ------             --------------  -----  \n",
      " 0   Legajo             553 non-null    int64  \n",
      " 1   Nombre y Apellido  553 non-null    object \n",
      " 2   Sueldo             553 non-null    float64\n",
      "dtypes: float64(1), int64(1), object(1)\n",
      "memory usage: 13.1+ KB\n"
     ]
    }
   ],
   "source": [
    "sueldos = pd.read_csv('sueldos_normalizados.csv')\n",
    "sueldos.info()"
   ]
  },
  {
   "cell_type": "markdown",
   "metadata": {},
   "source": [
    "#### Variables para el analisis"
   ]
  },
  {
   "cell_type": "code",
   "execution_count": 16,
   "metadata": {},
   "outputs": [
    {
     "data": {
      "text/plain": [
       "410    22585.56\n",
       "541    23997.16\n",
       "225    31055.14\n",
       "523    37436.55\n",
       "341    37790.33\n",
       "Name: Sueldo, dtype: float64"
      ]
     },
     "execution_count": 16,
     "metadata": {},
     "output_type": "execute_result"
    }
   ],
   "source": [
    "sueldos = sueldos['Sueldo'].sort_values(ascending=True)\n",
    "sueldos.head()"
   ]
  },
  {
   "cell_type": "markdown",
   "metadata": {},
   "source": [
    "Creacion de intervalos de sueldos"
   ]
  },
  {
   "cell_type": "code",
   "execution_count": 17,
   "metadata": {},
   "outputs": [
    {
     "name": "stdout",
     "output_type": "stream",
     "text": [
      "\n",
      " Los intervalos de sueldos son: dict_keys(['menor_50k', '50k_75k', '75k_100k', '100k_125k', '125k_150k', '150k_200k', '200k_250k', '250k_300k', '300k_350k', '350k_400k', 'mayor_400k']) \n",
      "\n",
      "{'menor_50k': 1258172.4299999997, '50k_75k': 11662408.820000006, '75k_100k': 12849876.98999999, '100k_125k': 10296923.270000001, '125k_150k': 5887785.24, '150k_200k': 6543134.670000001, '200k_250k': 1328556.37, '250k_300k': 1374244.87, '300k_350k': 305417.94, '350k_400k': 393363.37, 'mayor_400k': 2358389.4699999997}\n",
      "\n",
      "Hay 11 intervalos de sueldos \n",
      "\n",
      "{'menor_50k': 29, '50k_75k': 184, '75k_100k': 147, '100k_125k': 93, '125k_150k': 43, '150k_200k': 39, '200k_250k': 6, '250k_300k': 5, '300k_350k': 1, '350k_400k': 1, 'mayor_400k': 5}\n"
     ]
    }
   ],
   "source": [
    "sueldo_menor_50k = 0\n",
    "empleados_menores_50k = 0\n",
    "sueldo_50k_75k = 0\n",
    "empleados_50k_75k = 0\n",
    "sueldo_75k_100k = 0\n",
    "empleados_75k_100k = 0\n",
    "sueldo_100k_125k = 0\n",
    "empleados_100k_125k = 0\n",
    "sueldo_125k_150k = 0\n",
    "empleados_125k_150k = 0\n",
    "sueldo_150k_200k = 0\n",
    "empleados_150k_200k = 0\n",
    "sueldo_200k_250k = 0\n",
    "empleados_200k_250k = 0\n",
    "sueldo_250k_300k = 0\n",
    "empleados_250k_300k = 0\n",
    "sueldo_300k_350k = 0\n",
    "empleados_300k_350k = 0\n",
    "sueldo_350k_400k = 0\n",
    "empleados_350k_400k = 0\n",
    "sueldo_mayor_400k= 0\n",
    "empleados_mayor_400k = 0\n",
    "sueldos_intervalos = dict()\n",
    "sueldos_titulos_intervalos = []\n",
    "cantidad_empleados_intervalos = dict()\n",
    "sueldos_valor_intervalos = []\n",
    "cantidad_empleados_valor_intervalos = []\n",
    "for sueldo in sueldos:\n",
    "    if sueldo < 50000:\n",
    "        sueldo_menor_50k = sueldo_menor_50k + sueldo\n",
    "        sueldos_intervalos['menor_50k'] = sueldo_menor_50k\n",
    "        empleados_menores_50k = empleados_menores_50k + 1\n",
    "        cantidad_empleados_intervalos['menor_50k'] = empleados_menores_50k\n",
    "    elif sueldo >= 50000 and sueldo < 75000:\n",
    "        sueldo_50k_75k = sueldo_50k_75k + sueldo\n",
    "        sueldos_intervalos['50k_75k'] = sueldo_50k_75k\n",
    "        empleados_50k_75k = empleados_50k_75k + 1\n",
    "        cantidad_empleados_intervalos['50k_75k'] = empleados_50k_75k\n",
    "    elif sueldo >= 75000 and sueldo < 100000:\n",
    "        sueldo_75k_100k = sueldo_75k_100k + sueldo\n",
    "        sueldos_intervalos['75k_100k'] = sueldo_75k_100k\n",
    "        empleados_75k_100k = empleados_75k_100k + 1\n",
    "        cantidad_empleados_intervalos['75k_100k'] = empleados_75k_100k\n",
    "    elif sueldo >= 100000 and sueldo < 125000:\n",
    "        sueldo_100k_125k = sueldo_100k_125k + sueldo\n",
    "        sueldos_intervalos['100k_125k'] = sueldo_100k_125k\n",
    "        empleados_100k_125k = empleados_100k_125k + 1\n",
    "        cantidad_empleados_intervalos['100k_125k'] = empleados_100k_125k\n",
    "    elif sueldo >= 125000 and sueldo < 150000:\n",
    "        sueldo_125k_150k = sueldo_125k_150k + sueldo\n",
    "        sueldos_intervalos['125k_150k'] = sueldo_125k_150k\n",
    "        empleados_125k_150k = empleados_125k_150k + 1\n",
    "        cantidad_empleados_intervalos['125k_150k'] = empleados_125k_150k\n",
    "    elif sueldo >= 150000 and sueldo < 200000:\n",
    "        sueldo_150k_200k = sueldo_150k_200k + sueldo\n",
    "        sueldos_intervalos['150k_200k'] = sueldo_150k_200k\n",
    "        empleados_150k_200k = empleados_150k_200k + 1\n",
    "        cantidad_empleados_intervalos['150k_200k'] = empleados_150k_200k\n",
    "    elif sueldo >= 200000 and sueldo < 250000:\n",
    "        sueldo_200k_250k = sueldo_200k_250k + sueldo\n",
    "        sueldos_intervalos['200k_250k'] = sueldo_200k_250k\n",
    "        empleados_200k_250k = empleados_200k_250k + 1\n",
    "        cantidad_empleados_intervalos['200k_250k'] = empleados_200k_250k\n",
    "    elif sueldo >= 250000 and sueldo < 300000:\n",
    "        sueldo_250k_300k = sueldo_250k_300k + sueldo\n",
    "        sueldos_intervalos['250k_300k'] = sueldo_250k_300k\n",
    "        empleados_250k_300k = empleados_250k_300k + 1\n",
    "        cantidad_empleados_intervalos['250k_300k'] = empleados_250k_300k\n",
    "        \n",
    "    elif sueldo >= 300000 and sueldo < 350000:\n",
    "        sueldo_300k_350k = sueldo_300k_350k + sueldo\n",
    "        sueldos_intervalos['300k_350k'] = sueldo_300k_350k\n",
    "        sueldos_intervalos['350k_400k'] = 0\n",
    "        empleados_300k_350k = empleados_300k_350k + 1\n",
    "        cantidad_empleados_intervalos['300k_350k'] = empleados_300k_350k\n",
    "        cantidad_empleados_intervalos['350k_400k'] = empleados_350k_400k\n",
    "    elif sueldo >= 350000 and sueldo < 400000:\n",
    "        sueldo_350k_400k = sueldo_350k_400k + sueldo\n",
    "        sueldos_intervalos['350k_400k'] = sueldo_350k_400k\n",
    "        empleados_350k_400k = empleados_350k_400k + 1\n",
    "        cantidad_empleados_intervalos['350k_400k'] = empleados_350k_400k\n",
    "    elif sueldo >= 400000:\n",
    "        sueldo_mayor_400k = sueldo_mayor_400k + sueldo\n",
    "        sueldos_intervalos['mayor_400k'] = sueldo_mayor_400k\n",
    "        empleados_mayor_400k = empleados_mayor_400k + 1\n",
    "        cantidad_empleados_intervalos['mayor_400k'] = empleados_mayor_400k\n",
    "\n",
    "\n",
    "\n",
    "\n",
    "for valor in cantidad_empleados_intervalos.values():\n",
    "    cantidad_empleados_valor_intervalos.append(f'{valor} empleados')\n",
    "for titulo in sueldos_intervalos.keys():\n",
    "    sueldos_titulos_intervalos.append(titulo)\n",
    "\n",
    "\n",
    "\n",
    "print(f'\\n Los intervalos de sueldos son: {sueldos_intervalos.keys()} \\n')\n",
    "print(sueldos_intervalos)\n",
    "\n",
    "print(f'\\nHay {len(cantidad_empleados_intervalos.keys())} intervalos de sueldos \\n')\n",
    "print(cantidad_empleados_intervalos)\n"
   ]
  },
  {
   "cell_type": "markdown",
   "metadata": {},
   "source": [
    "#### Cantidad empleados por intervalo de sueldos"
   ]
  },
  {
   "cell_type": "code",
   "execution_count": 18,
   "metadata": {},
   "outputs": [
    {
     "data": {
      "text/plain": [
       "{'menor_50k': 29,\n",
       " '50k_75k': 184,\n",
       " '75k_100k': 147,\n",
       " '100k_125k': 93,\n",
       " '125k_150k': 43,\n",
       " '150k_200k': 39,\n",
       " '200k_250k': 6,\n",
       " '250k_300k': 5,\n",
       " '300k_350k': 1,\n",
       " '350k_400k': 1,\n",
       " 'mayor_400k': 5}"
      ]
     },
     "execution_count": 18,
     "metadata": {},
     "output_type": "execute_result"
    }
   ],
   "source": [
    "cantidad_empleados_intervalos"
   ]
  },
  {
   "cell_type": "markdown",
   "metadata": {},
   "source": [
    "#### Los intervalos de sueldos son:"
   ]
  },
  {
   "cell_type": "code",
   "execution_count": 19,
   "metadata": {},
   "outputs": [
    {
     "data": {
      "text/plain": [
       "dict_keys(['menor_50k', '50k_75k', '75k_100k', '100k_125k', '125k_150k', '150k_200k', '200k_250k', '250k_300k', '300k_350k', '350k_400k', 'mayor_400k'])"
      ]
     },
     "execution_count": 19,
     "metadata": {},
     "output_type": "execute_result"
    }
   ],
   "source": [
    "sueldos_intervalos.keys()"
   ]
  },
  {
   "cell_type": "markdown",
   "metadata": {},
   "source": [
    "#### Suma de sueldos por intervalo salarial"
   ]
  },
  {
   "cell_type": "code",
   "execution_count": 20,
   "metadata": {},
   "outputs": [
    {
     "data": {
      "text/plain": [
       "{'menor_50k': 1258172.4299999997,\n",
       " '50k_75k': 11662408.820000006,\n",
       " '75k_100k': 12849876.98999999,\n",
       " '100k_125k': 10296923.270000001,\n",
       " '125k_150k': 5887785.24,\n",
       " '150k_200k': 6543134.670000001,\n",
       " '200k_250k': 1328556.37,\n",
       " '250k_300k': 1374244.87,\n",
       " '300k_350k': 305417.94,\n",
       " '350k_400k': 393363.37,\n",
       " 'mayor_400k': 2358389.4699999997}"
      ]
     },
     "execution_count": 20,
     "metadata": {},
     "output_type": "execute_result"
    }
   ],
   "source": [
    "sueldos_intervalos"
   ]
  },
  {
   "cell_type": "markdown",
   "metadata": {},
   "source": [
    "#### Grafico de torta mostrando cuanto representa cada intervalo salarial en el total de sueldos y cantidad de empleados por intervalo salarial."
   ]
  },
  {
   "cell_type": "code",
   "execution_count": 23,
   "metadata": {},
   "outputs": [
    {
     "data": {
      "image/png": "[encoded data removed]",
      "text/plain": [
       "<Figure size 3600x504 with 1 Axes>"
      ]
     },
     "metadata": {},
     "output_type": "display_data"
    }
   ],
   "source": [
    "\n",
    "# Creating dataset\n",
    "valores = sueldos_intervalos.keys()\n",
    "empleados_labels = cantidad_empleados_valor_intervalos\n",
    "datos_intervalos = sueldos_intervalos.values()\n",
    "\n",
    "# Creating explode data\n",
    "explode = (0, 0, 0.2, 0, 0,0,0,0,0,0,0.2)\n",
    " \n",
    "# Creating color parameters\n",
    "colors = ( \"orange\", \"cyan\", \"brown\",\n",
    "          \"grey\", \"indigo\", \"beige\")\n",
    " \n",
    "# Wedge properties\n",
    "wp = { 'linewidth' : 0.1, 'edgecolor' : \"white\" }\n",
    " \n",
    "# Creating autocpt arguments\n",
    "def make_autopct(values):\n",
    "    def my_autopct(pct):\n",
    "        total = sum(values)\n",
    "      \n",
    "       \n",
    "        val = int((pct*total/100)+0.5)\n",
    "        \n",
    "        return '{:.1f}%'.format(pct, val)\n",
    "    return my_autopct\n",
    " \n",
    "# Creating plot\n",
    "fig, ax = plt.subplots(figsize =(50, 7))\n",
    "wedges, texts, autotexts = ax.pie(datos_intervalos,\n",
    "                                   \n",
    "                                  autopct = make_autopct(datos_intervalos),\n",
    "                                  explode = explode,\n",
    "                                  labels = empleados_labels,\n",
    "                                 \n",
    "                                  colors = colors,\n",
    "                                  startangle = 180,\n",
    "                                  wedgeprops = wp,\n",
    "                                  textprops = dict(color =\"magenta\")\n",
    "                                  )\n",
    "\n",
    "                                 \n",
    "                                  \n",
    "# Adding legend\n",
    "ax.legend(wedges, valores,\n",
    "          title =\"Sueldos\",\n",
    "          loc =\"center left\",\n",
    "          bbox_to_anchor =(1, 0, 0.5, 1))\n",
    " \n",
    "plt.setp(autotexts, size = 8, weight =\"bold\")\n",
    "ax.set_title(\"Sueldos Muni\", pad=32)\n",
    " \n",
    "# show plot\n",
    "plt.savefig(os.path.join('./graficos/sueldos_torta.png'), dpi=600, format='png', bbox_inches='tight')\n",
    "plt.show()"
   ]
  },
  {
   "cell_type": "markdown",
   "metadata": {},
   "source": [
    "#### Grafico de barras mostrando la cantidad de empleados por intervalo salarial"
   ]
  },
  {
   "cell_type": "code",
   "execution_count": null,
   "metadata": {},
   "outputs": [
    {
     "data": {
      "image/png": "[encoded data removed]",
      "text/plain": [
       "<Figure size 540x360 with 1 Axes>"
      ]
     },
     "metadata": {
      "needs_background": "light"
     },
     "output_type": "display_data"
    }
   ],
   "source": [
    "\n",
    "plt.rcParams[\"figure.figsize\"] = [7.50, 5]\n",
    "plt.rcParams[\"figure.autolayout\"] = True\n",
    "\n",
    "a = sueldos\n",
    "bins = 20\n",
    "tick_spacing = 10\n",
    "\n",
    "plt.hist(a, bins, facecolor='r', alpha=0.7, edgecolor='k',\n",
    "\tlinewidth=1)\n",
    "plt.title(\"Sueldos\")\n",
    "plt.xlabel(\"valor\")\n",
    "plt.ylabel(\"empleados\")\n",
    "\n",
    "plt.savefig(os.path.join('./graficos/sueldos.png'), dpi=300, format='png', bbox_inches='tight')\n",
    "\n",
    "plt.show()"
   ]
  }
 ],
 "metadata": {
  "kernelspec": {
   "display_name": "Python 3.10.4 64-bit",
   "language": "python",
   "name": "python3"
  },
  "language_info": {
   "codemirror_mode": {
    "name": "ipython",
    "version": 3
   },
   "file_extension": ".py",
   "mimetype": "text/x-python",
   "name": "python",
   "nbconvert_exporter": "python",
   "pygments_lexer": "ipython3",
   "version": "3.10.4"
  },
  "orig_nbformat": 4,
  "vscode": {
   "interpreter": {
    "hash": "369f2c481f4da34e4445cda3fffd2e751bd1c4d706f27375911949ba6bb62e1c"
   }
  }
 },
 "nbformat": 4,
 "nbformat_minor": 2
}
